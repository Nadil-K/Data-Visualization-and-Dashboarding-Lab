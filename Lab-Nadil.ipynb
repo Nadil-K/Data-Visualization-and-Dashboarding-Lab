{
 "cells": [
  {
   "cell_type": "code",
   "execution_count": null,
   "metadata": {},
   "outputs": [],
   "source": [
    "# Nadil"
   ]
  },
  {
   "attachments": {},
   "cell_type": "markdown",
   "metadata": {},
   "source": [
    "Pre processing the dataset"
   ]
  },
  {
   "cell_type": "code",
   "execution_count": 4,
   "metadata": {},
   "outputs": [],
   "source": [
    "import pandas as pd"
   ]
  },
  {
   "cell_type": "code",
   "execution_count": 8,
   "metadata": {},
   "outputs": [],
   "source": [
    "df = pd.read_csv('Kickstarter.csv', encoding='latin-1')"
   ]
  },
  {
   "cell_type": "code",
   "execution_count": 11,
   "metadata": {},
   "outputs": [],
   "source": [
    "# drop the last column\n",
    "df = df.drop(df.columns[len(df.columns)-1], axis=1)"
   ]
  },
  {
   "cell_type": "code",
   "execution_count": 15,
   "metadata": {},
   "outputs": [],
   "source": [
    "# drop the rows which has no name\n",
    "df = df.dropna(subset=df.columns[[1]])"
   ]
  },
  {
   "cell_type": "code",
   "execution_count": 19,
   "metadata": {},
   "outputs": [],
   "source": [
    "# replace column names with colNames\n",
    "\n",
    "colNames = ['Name', 'Category', 'Deadline', 'Goal', 'Pledged', 'Status', 'Backers']\n",
    "df.columns = colNames"
   ]
  },
  {
   "attachments": {},
   "cell_type": "markdown",
   "metadata": {},
   "source": [
    "Markdown"
   ]
  },
  {
   "cell_type": "code",
   "execution_count": 20,
   "metadata": {},
   "outputs": [
    {
     "data": {
      "text/html": [
       "<div>\n",
       "<style scoped>\n",
       "    .dataframe tbody tr th:only-of-type {\n",
       "        vertical-align: middle;\n",
       "    }\n",
       "\n",
       "    .dataframe tbody tr th {\n",
       "        vertical-align: top;\n",
       "    }\n",
       "\n",
       "    .dataframe thead th {\n",
       "        text-align: right;\n",
       "    }\n",
       "</style>\n",
       "<table border=\"1\" class=\"dataframe\">\n",
       "  <thead>\n",
       "    <tr style=\"text-align: right;\">\n",
       "      <th></th>\n",
       "      <th>Name</th>\n",
       "      <th>Category</th>\n",
       "      <th>Deadline</th>\n",
       "      <th>Goal</th>\n",
       "      <th>Pledged</th>\n",
       "      <th>Status</th>\n",
       "      <th>Backers</th>\n",
       "    </tr>\n",
       "  </thead>\n",
       "  <tbody>\n",
       "    <tr>\n",
       "      <th>0</th>\n",
       "      <td>Safer Home</td>\n",
       "      <td>Hardware</td>\n",
       "      <td>3/7/2015 5:52</td>\n",
       "      <td>50000</td>\n",
       "      <td>0</td>\n",
       "      <td>failed</td>\n",
       "      <td>0</td>\n",
       "    </tr>\n",
       "    <tr>\n",
       "      <th>1</th>\n",
       "      <td>Gizbee Unlimited Removable Storage for Your T...</td>\n",
       "      <td>Gadgets</td>\n",
       "      <td>25/3/2016 19:30</td>\n",
       "      <td>87000</td>\n",
       "      <td>2030</td>\n",
       "      <td>canceled</td>\n",
       "      <td>15</td>\n",
       "    </tr>\n",
       "    <tr>\n",
       "      <th>2</th>\n",
       "      <td>Diposta - liberating people from their postal ...</td>\n",
       "      <td>Web</td>\n",
       "      <td>23/8/2016 13:18</td>\n",
       "      <td>100000</td>\n",
       "      <td>141</td>\n",
       "      <td>failed</td>\n",
       "      <td>3</td>\n",
       "    </tr>\n",
       "    <tr>\n",
       "      <th>3</th>\n",
       "      <td>Best Spray Bottle Ever - SureShot</td>\n",
       "      <td>Gadgets</td>\n",
       "      <td>7/3/2015 16:57</td>\n",
       "      <td>25000</td>\n",
       "      <td>3</td>\n",
       "      <td>failed</td>\n",
       "      <td>3</td>\n",
       "    </tr>\n",
       "    <tr>\n",
       "      <th>4</th>\n",
       "      <td>Fishtacular - The Ultimate Fishing Tool (Cance...</td>\n",
       "      <td>Apps</td>\n",
       "      <td>25/5/2015 20:04</td>\n",
       "      <td>50000</td>\n",
       "      <td>11336</td>\n",
       "      <td>canceled</td>\n",
       "      <td>19</td>\n",
       "    </tr>\n",
       "    <tr>\n",
       "      <th>...</th>\n",
       "      <td>...</td>\n",
       "      <td>...</td>\n",
       "      <td>...</td>\n",
       "      <td>...</td>\n",
       "      <td>...</td>\n",
       "      <td>...</td>\n",
       "      <td>...</td>\n",
       "    </tr>\n",
       "    <tr>\n",
       "      <th>15995</th>\n",
       "      <td>Safeskoolz: Safety &amp; Emergency Communication F...</td>\n",
       "      <td>Apps</td>\n",
       "      <td>9/8/2014 5:35</td>\n",
       "      <td>367000</td>\n",
       "      <td>447</td>\n",
       "      <td>failed</td>\n",
       "      <td>19</td>\n",
       "    </tr>\n",
       "    <tr>\n",
       "      <th>15996</th>\n",
       "      <td>The Beer Machine that keeps track of who's dri...</td>\n",
       "      <td>Hardware</td>\n",
       "      <td>7/12/2016 2:00</td>\n",
       "      <td>107500</td>\n",
       "      <td>11564</td>\n",
       "      <td>live</td>\n",
       "      <td>33</td>\n",
       "    </tr>\n",
       "    <tr>\n",
       "      <th>15997</th>\n",
       "      <td>CopCritic App: Helping Police &amp; Public Communi...</td>\n",
       "      <td>Apps</td>\n",
       "      <td>4/11/2016 4:20</td>\n",
       "      <td>30000</td>\n",
       "      <td>101</td>\n",
       "      <td>failed</td>\n",
       "      <td>2</td>\n",
       "    </tr>\n",
       "    <tr>\n",
       "      <th>15998</th>\n",
       "      <td>Geeftz for Christmas (Canceled)</td>\n",
       "      <td>Apps</td>\n",
       "      <td>3/1/2015 16:52</td>\n",
       "      <td>3000</td>\n",
       "      <td>1222</td>\n",
       "      <td>canceled</td>\n",
       "      <td>26</td>\n",
       "    </tr>\n",
       "    <tr>\n",
       "      <th>15999</th>\n",
       "      <td>\"The Original BluGuitar Speaker System\"</td>\n",
       "      <td>Sound</td>\n",
       "      <td>2/7/2014 19:25</td>\n",
       "      <td>49900</td>\n",
       "      <td>1113</td>\n",
       "      <td>failed</td>\n",
       "      <td>13</td>\n",
       "    </tr>\n",
       "  </tbody>\n",
       "</table>\n",
       "<p>16000 rows × 7 columns</p>\n",
       "</div>"
      ],
      "text/plain": [
       "                                                    Name  Category   \n",
       "0                                             Safer Home  Hardware  \\\n",
       "1      Gizbee Unlimited Removable Storage for Your T...   Gadgets   \n",
       "2      Diposta - liberating people from their postal ...       Web   \n",
       "3                      Best Spray Bottle Ever - SureShot   Gadgets   \n",
       "4      Fishtacular - The Ultimate Fishing Tool (Cance...      Apps   \n",
       "...                                                  ...       ...   \n",
       "15995  Safeskoolz: Safety & Emergency Communication F...      Apps   \n",
       "15996  The Beer Machine that keeps track of who's dri...  Hardware   \n",
       "15997  CopCritic App: Helping Police & Public Communi...      Apps   \n",
       "15998                    Geeftz for Christmas (Canceled)      Apps   \n",
       "15999            \"The Original BluGuitar Speaker System\"     Sound   \n",
       "\n",
       "              Deadline    Goal Pledged    Status Backers  \n",
       "0        3/7/2015 5:52   50000       0    failed       0  \n",
       "1      25/3/2016 19:30   87000    2030  canceled      15  \n",
       "2      23/8/2016 13:18  100000     141    failed       3  \n",
       "3       7/3/2015 16:57   25000       3    failed       3  \n",
       "4      25/5/2015 20:04   50000   11336  canceled      19  \n",
       "...                ...     ...     ...       ...     ...  \n",
       "15995    9/8/2014 5:35  367000     447    failed      19  \n",
       "15996   7/12/2016 2:00  107500   11564      live      33  \n",
       "15997   4/11/2016 4:20   30000     101    failed       2  \n",
       "15998   3/1/2015 16:52    3000    1222  canceled      26  \n",
       "15999   2/7/2014 19:25   49900    1113    failed      13  \n",
       "\n",
       "[16000 rows x 7 columns]"
      ]
     },
     "execution_count": 20,
     "metadata": {},
     "output_type": "execute_result"
    }
   ],
   "source": [
    "df"
   ]
  },
  {
   "cell_type": "code",
   "execution_count": 17,
   "metadata": {},
   "outputs": [
    {
     "data": {
      "text/plain": [
       "name         0\n",
       "category     0\n",
       "deadline     0\n",
       "goal         0\n",
       "pledged      0\n",
       "status       0\n",
       "backers      0\n",
       "dtype: int64"
      ]
     },
     "execution_count": 17,
     "metadata": {},
     "output_type": "execute_result"
    }
   ],
   "source": [
    "# get the missing value count for each column\n",
    "\n",
    "df.isnull().sum()"
   ]
  },
  {
   "cell_type": "code",
   "execution_count": 21,
   "metadata": {},
   "outputs": [
    {
     "data": {
      "text/plain": [
       "0                                               Safer Home\n",
       "1        Gizbee Unlimited Removable Storage for Your T...\n",
       "2        Diposta - liberating people from their postal ...\n",
       "3                        Best Spray Bottle Ever - SureShot\n",
       "4        Fishtacular - The Ultimate Fishing Tool (Cance...\n",
       "                               ...                        \n",
       "15995    Safeskoolz: Safety & Emergency Communication F...\n",
       "15996    The Beer Machine that keeps track of who's dri...\n",
       "15997    CopCritic App: Helping Police & Public Communi...\n",
       "15998                      Geeftz for Christmas (Canceled)\n",
       "15999              \"The Original BluGuitar Speaker System\"\n",
       "Name: Name, Length: 16000, dtype: object"
      ]
     },
     "execution_count": 21,
     "metadata": {},
     "output_type": "execute_result"
    }
   ],
   "source": [
    "df['Name']"
   ]
  },
  {
   "cell_type": "code",
   "execution_count": null,
   "metadata": {},
   "outputs": [],
   "source": []
  }
 ],
 "metadata": {
  "kernelspec": {
   "display_name": "Python 3",
   "language": "python",
   "name": "python3"
  },
  "language_info": {
   "codemirror_mode": {
    "name": "ipython",
    "version": 3
   },
   "file_extension": ".py",
   "mimetype": "text/x-python",
   "name": "python",
   "nbconvert_exporter": "python",
   "pygments_lexer": "ipython3",
   "version": "3.10.11"
  },
  "orig_nbformat": 4
 },
 "nbformat": 4,
 "nbformat_minor": 2
}
