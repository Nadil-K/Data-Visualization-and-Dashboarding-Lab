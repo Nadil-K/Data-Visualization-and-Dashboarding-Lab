{
 "cells": [
  {
   "cell_type": "code",
   "execution_count": null,
   "metadata": {},
   "outputs": [],
   "source": [
    "# Nadil"
   ]
  },
  {
   "attachments": {},
   "cell_type": "markdown",
   "metadata": {},
   "source": [
    "Pre processing the dataset"
   ]
  },
  {
   "cell_type": "code",
   "execution_count": 78,
   "metadata": {},
   "outputs": [],
   "source": [
    "import pandas as pd"
   ]
  },
  {
   "cell_type": "code",
   "execution_count": 79,
   "metadata": {},
   "outputs": [],
   "source": [
    "df = pd.read_csv('Kickstarter.csv', encoding='latin-1')"
   ]
  },
  {
   "cell_type": "code",
   "execution_count": 80,
   "metadata": {},
   "outputs": [],
   "source": [
    "# drop the last column\n",
    "df = df.drop(df.columns[len(df.columns)-1], axis=1)"
   ]
  },
  {
   "cell_type": "code",
   "execution_count": 81,
   "metadata": {},
   "outputs": [],
   "source": [
    "# drop the rows which has no name\n",
    "df = df.dropna(subset=df.columns[[1]])"
   ]
  },
  {
   "cell_type": "code",
   "execution_count": 82,
   "metadata": {},
   "outputs": [],
   "source": [
    "# replace column names with colNames\n",
    "\n",
    "colNames = ['Name', 'Category', 'Deadline', 'Goal', 'Pledged', 'Status', 'Backers']\n",
    "df.columns = colNames"
   ]
  },
  {
   "attachments": {},
   "cell_type": "markdown",
   "metadata": {},
   "source": [
    "Cleaning the Deadline column"
   ]
  },
  {
   "cell_type": "code",
   "execution_count": 83,
   "metadata": {},
   "outputs": [],
   "source": [
    "# function to check whether a given string is an integer or not\n",
    "\n",
    "def isInt(s):\n",
    "    try:\n",
    "        int(s)\n",
    "        return True\n",
    "    except ValueError:\n",
    "        return False"
   ]
  },
  {
   "cell_type": "code",
   "execution_count": 84,
   "metadata": {},
   "outputs": [],
   "source": [
    "# function to clean the deadline column and extract the year only\n",
    "# date format is not unique throughout the column\n",
    "# use isInt function to check whether a given string is an integer or not\n",
    "\n",
    "def cleanDeadline(deadline):\n",
    "    for i in range(len(deadline)):\n",
    "        if deadline[i] == '2' and deadline[i+1] == '0' and isInt(deadline[i:i+4]):\n",
    "            return deadline[i:i+4]"
   ]
  },
  {
   "cell_type": "code",
   "execution_count": 85,
   "metadata": {},
   "outputs": [],
   "source": [
    "# convert the deadline column to string\n",
    "df['Deadline'] = df['Deadline'].astype(str)\n",
    "\n",
    "# apply the function to the column deadline using lambda function\n",
    "df['Deadline'] = df['Deadline'].apply(lambda x: cleanDeadline(x))"
   ]
  },
  {
   "cell_type": "code",
   "execution_count": 87,
   "metadata": {},
   "outputs": [],
   "source": [
    "# drop the rows where the value of the column Year is None\n",
    "\n",
    "df = df.dropna(subset=['Deadline'])"
   ]
  },
  {
   "attachments": {},
   "cell_type": "markdown",
   "metadata": {},
   "source": [
    "Check Category Column"
   ]
  },
  {
   "cell_type": "code",
   "execution_count": 88,
   "metadata": {},
   "outputs": [
    {
     "data": {
      "text/plain": [
       "array(['Hardware', 'Gadgets', 'Web', 'Apps', 'Technology', 'Software',\n",
       "       'Flight', 'Makerspaces', 'Fabrication Tools', 'Sound',\n",
       "       'DIY Electronics', 'Camera Equipment', '3D Printing', 'Wearables',\n",
       "       'Space Exploration', 'Robots'], dtype=object)"
      ]
     },
     "execution_count": 88,
     "metadata": {},
     "output_type": "execute_result"
    }
   ],
   "source": [
    "df['Category'].unique()"
   ]
  },
  {
   "cell_type": "code",
   "execution_count": 89,
   "metadata": {},
   "outputs": [
    {
     "data": {
      "text/plain": [
       "Category\n",
       "3D Printing           338\n",
       "Apps                 2986\n",
       "Camera Equipment      187\n",
       "DIY Electronics       419\n",
       "Fabrication Tools     127\n",
       "Flight                212\n",
       "Gadgets              1362\n",
       "Hardware             1905\n",
       "Makerspaces           129\n",
       "Robots                265\n",
       "Software             1558\n",
       "Sound                 302\n",
       "Space Exploration     160\n",
       "Technology           3560\n",
       "Wearables             536\n",
       "Web                  1949\n",
       "dtype: int64"
      ]
     },
     "execution_count": 89,
     "metadata": {},
     "output_type": "execute_result"
    }
   ],
   "source": [
    "# group the dataframe by category and get number of entries in each category\n",
    "\n",
    "df.groupby('Category').size()\n"
   ]
  },
  {
   "attachments": {},
   "cell_type": "markdown",
   "metadata": {},
   "source": [
    "New"
   ]
  },
  {
   "cell_type": "code",
   "execution_count": 90,
   "metadata": {},
   "outputs": [
    {
     "data": {
      "text/html": [
       "<div>\n",
       "<style scoped>\n",
       "    .dataframe tbody tr th:only-of-type {\n",
       "        vertical-align: middle;\n",
       "    }\n",
       "\n",
       "    .dataframe tbody tr th {\n",
       "        vertical-align: top;\n",
       "    }\n",
       "\n",
       "    .dataframe thead th {\n",
       "        text-align: right;\n",
       "    }\n",
       "</style>\n",
       "<table border=\"1\" class=\"dataframe\">\n",
       "  <thead>\n",
       "    <tr style=\"text-align: right;\">\n",
       "      <th></th>\n",
       "      <th>Name</th>\n",
       "      <th>Category</th>\n",
       "      <th>Deadline</th>\n",
       "      <th>Goal</th>\n",
       "      <th>Pledged</th>\n",
       "      <th>Status</th>\n",
       "      <th>Backers</th>\n",
       "    </tr>\n",
       "  </thead>\n",
       "  <tbody>\n",
       "    <tr>\n",
       "      <th>0</th>\n",
       "      <td>Safer Home</td>\n",
       "      <td>Hardware</td>\n",
       "      <td>2015</td>\n",
       "      <td>50000</td>\n",
       "      <td>0</td>\n",
       "      <td>failed</td>\n",
       "      <td>0</td>\n",
       "    </tr>\n",
       "    <tr>\n",
       "      <th>1</th>\n",
       "      <td>Gizbee Unlimited Removable Storage for Your T...</td>\n",
       "      <td>Gadgets</td>\n",
       "      <td>2016</td>\n",
       "      <td>87000</td>\n",
       "      <td>2030</td>\n",
       "      <td>canceled</td>\n",
       "      <td>15</td>\n",
       "    </tr>\n",
       "    <tr>\n",
       "      <th>2</th>\n",
       "      <td>Diposta - liberating people from their postal ...</td>\n",
       "      <td>Web</td>\n",
       "      <td>2016</td>\n",
       "      <td>100000</td>\n",
       "      <td>141</td>\n",
       "      <td>failed</td>\n",
       "      <td>3</td>\n",
       "    </tr>\n",
       "    <tr>\n",
       "      <th>3</th>\n",
       "      <td>Best Spray Bottle Ever - SureShot</td>\n",
       "      <td>Gadgets</td>\n",
       "      <td>2015</td>\n",
       "      <td>25000</td>\n",
       "      <td>3</td>\n",
       "      <td>failed</td>\n",
       "      <td>3</td>\n",
       "    </tr>\n",
       "    <tr>\n",
       "      <th>4</th>\n",
       "      <td>Fishtacular - The Ultimate Fishing Tool (Cance...</td>\n",
       "      <td>Apps</td>\n",
       "      <td>2015</td>\n",
       "      <td>50000</td>\n",
       "      <td>11336</td>\n",
       "      <td>canceled</td>\n",
       "      <td>19</td>\n",
       "    </tr>\n",
       "    <tr>\n",
       "      <th>...</th>\n",
       "      <td>...</td>\n",
       "      <td>...</td>\n",
       "      <td>...</td>\n",
       "      <td>...</td>\n",
       "      <td>...</td>\n",
       "      <td>...</td>\n",
       "      <td>...</td>\n",
       "    </tr>\n",
       "    <tr>\n",
       "      <th>15995</th>\n",
       "      <td>Safeskoolz: Safety &amp; Emergency Communication F...</td>\n",
       "      <td>Apps</td>\n",
       "      <td>2014</td>\n",
       "      <td>367000</td>\n",
       "      <td>447</td>\n",
       "      <td>failed</td>\n",
       "      <td>19</td>\n",
       "    </tr>\n",
       "    <tr>\n",
       "      <th>15996</th>\n",
       "      <td>The Beer Machine that keeps track of who's dri...</td>\n",
       "      <td>Hardware</td>\n",
       "      <td>2016</td>\n",
       "      <td>107500</td>\n",
       "      <td>11564</td>\n",
       "      <td>live</td>\n",
       "      <td>33</td>\n",
       "    </tr>\n",
       "    <tr>\n",
       "      <th>15997</th>\n",
       "      <td>CopCritic App: Helping Police &amp; Public Communi...</td>\n",
       "      <td>Apps</td>\n",
       "      <td>2016</td>\n",
       "      <td>30000</td>\n",
       "      <td>101</td>\n",
       "      <td>failed</td>\n",
       "      <td>2</td>\n",
       "    </tr>\n",
       "    <tr>\n",
       "      <th>15998</th>\n",
       "      <td>Geeftz for Christmas (Canceled)</td>\n",
       "      <td>Apps</td>\n",
       "      <td>2015</td>\n",
       "      <td>3000</td>\n",
       "      <td>1222</td>\n",
       "      <td>canceled</td>\n",
       "      <td>26</td>\n",
       "    </tr>\n",
       "    <tr>\n",
       "      <th>15999</th>\n",
       "      <td>\"The Original BluGuitar Speaker System\"</td>\n",
       "      <td>Sound</td>\n",
       "      <td>2014</td>\n",
       "      <td>49900</td>\n",
       "      <td>1113</td>\n",
       "      <td>failed</td>\n",
       "      <td>13</td>\n",
       "    </tr>\n",
       "  </tbody>\n",
       "</table>\n",
       "<p>15995 rows × 7 columns</p>\n",
       "</div>"
      ],
      "text/plain": [
       "                                                    Name  Category Deadline   \n",
       "0                                             Safer Home  Hardware     2015  \\\n",
       "1      Gizbee Unlimited Removable Storage for Your T...   Gadgets     2016   \n",
       "2      Diposta - liberating people from their postal ...       Web     2016   \n",
       "3                      Best Spray Bottle Ever - SureShot   Gadgets     2015   \n",
       "4      Fishtacular - The Ultimate Fishing Tool (Cance...      Apps     2015   \n",
       "...                                                  ...       ...      ...   \n",
       "15995  Safeskoolz: Safety & Emergency Communication F...      Apps     2014   \n",
       "15996  The Beer Machine that keeps track of who's dri...  Hardware     2016   \n",
       "15997  CopCritic App: Helping Police & Public Communi...      Apps     2016   \n",
       "15998                    Geeftz for Christmas (Canceled)      Apps     2015   \n",
       "15999            \"The Original BluGuitar Speaker System\"     Sound     2014   \n",
       "\n",
       "         Goal Pledged    Status Backers  \n",
       "0       50000       0    failed       0  \n",
       "1       87000    2030  canceled      15  \n",
       "2      100000     141    failed       3  \n",
       "3       25000       3    failed       3  \n",
       "4       50000   11336  canceled      19  \n",
       "...       ...     ...       ...     ...  \n",
       "15995  367000     447    failed      19  \n",
       "15996  107500   11564      live      33  \n",
       "15997   30000     101    failed       2  \n",
       "15998    3000    1222  canceled      26  \n",
       "15999   49900    1113    failed      13  \n",
       "\n",
       "[15995 rows x 7 columns]"
      ]
     },
     "execution_count": 90,
     "metadata": {},
     "output_type": "execute_result"
    }
   ],
   "source": [
    "df"
   ]
  },
  {
   "cell_type": "code",
   "execution_count": null,
   "metadata": {},
   "outputs": [],
   "source": []
  }
 ],
 "metadata": {
  "kernelspec": {
   "display_name": "Python 3",
   "language": "python",
   "name": "python3"
  },
  "language_info": {
   "codemirror_mode": {
    "name": "ipython",
    "version": 3
   },
   "file_extension": ".py",
   "mimetype": "text/x-python",
   "name": "python",
   "nbconvert_exporter": "python",
   "pygments_lexer": "ipython3",
   "version": "3.10.11"
  },
  "orig_nbformat": 4
 },
 "nbformat": 4,
 "nbformat_minor": 2
}
